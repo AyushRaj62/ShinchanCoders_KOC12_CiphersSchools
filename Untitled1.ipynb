{
  "nbformat": 4,
  "nbformat_minor": 0,
  "metadata": {
    "colab": {
      "provenance": [],
      "authorship_tag": "ABX9TyN8TD5sVK7zDofk7nZM7QEK",
      "include_colab_link": true
    },
    "kernelspec": {
      "name": "python3",
      "display_name": "Python 3"
    },
    "language_info": {
      "name": "python"
    }
  },
  "cells": [
    {
      "cell_type": "markdown",
      "metadata": {
        "id": "view-in-github",
        "colab_type": "text"
      },
      "source": [
        "<a href=\"https://colab.research.google.com/github/AyushRaj62/ShinchanCoders_KOC12_CiphersSchools/blob/main/Untitled1.ipynb\" target=\"_parent\"><img src=\"https://colab.research.google.com/assets/colab-badge.svg\" alt=\"Open In Colab\"/></a>"
      ]
    },
    {
      "cell_type": "code",
      "execution_count": 2,
      "metadata": {
        "colab": {
          "base_uri": "https://localhost:8080/"
        },
        "id": "xZenvK7coijR",
        "outputId": "f22bd610-2296-4266-b8f8-62c2405159cf"
      },
      "outputs": [
        {
          "output_type": "stream",
          "name": "stdout",
          "text": [
            "Rock Paper Scissor Game \n",
            "Round 1 Start:\n",
            " your choice:\n",
            "1.Rock\n",
            "2.Paper\n",
            "3.scissor\n",
            "1\n",
            "you selected Rock\n",
            "computer select : Paper\n",
            "Compter win this Round\n",
            "Round 2 Start:\n",
            " your choice:\n",
            "1.Rock\n",
            "2.Paper\n",
            "3.scissor\n",
            "2\n",
            "you selected Paper\n",
            "computer select : Rock\n",
            "Compter win this Round\n",
            "Round 3 Start:\n",
            " your choice:\n",
            "1.Rock\n",
            "2.Paper\n",
            "3.scissor\n",
            "3\n",
            "you selected Scissor\n",
            "computer select :  Scissor\n",
            "Compter win this Round\n",
            "You lose the Game:\n",
            "Score is :your score:0computer score:3\n"
          ]
        },
        {
          "output_type": "execute_result",
          "data": {
            "text/plain": [
              "3"
            ]
          },
          "metadata": {},
          "execution_count": 2
        }
      ],
      "source": [
        "import random\n",
        "Cchoice=[\"Rock\",\"Paper\",\" Scissor\"]\n",
        "while True:\n",
        "    print(\"Rock Paper Scissor Game \")\n",
        "    youwin,computerwin=0,0\n",
        "    for i in range (1,4):\n",
        "        print(\"Round\",i,\"Start:\")\n",
        "        print(\" your choice:\")\n",
        "        print(\"1.Rock\" , \"2.Paper\" , \"3.scissor\",sep=\"\\n\")\n",
        "        yourchoice=int(input())\n",
        "        if yourchoice==1:\n",
        "            print(\"you selected Rock\")\n",
        "            yourchoice=\"Rock\"\n",
        "        elif yourchoice==2:\n",
        "            print(\"you selected Paper\")\n",
        "            yourchoice=\"Paper\"\n",
        "        elif yourchoice==3:\n",
        "            print(\"you selected Scissor\")\n",
        "            yourchoice=\"scissor\"\n",
        "        else:\n",
        "            print(\"invalid choice\")\n",
        "            break\n",
        "        computerchoice= random.choice(Cchoice)\n",
        "        print(\"computer select :\",computerchoice)\n",
        "        if yourchoice==computerchoice:\n",
        "           print(\"This round is Drawn\")\n",
        "        elif(yourchoice==\"paper\" and computerchoice==\"rock\") or (yourchoice==\"Rock\" and computerchoice==\"Scissor\") or (yourchoice==\"Scissor\" and copmuterchoice==\"paper\") :\n",
        "            youwin+=1\n",
        "            print(\"You win this Round\")\n",
        "        else:\n",
        "            computerwin+=1\n",
        "            print(\"Compter win this Round\")\n",
        "        \n",
        "    if youwin>computerwin:\n",
        "        print(\"You win this Game:\")\n",
        "        print (\" Score is:\" , \"Your score:\",youwin,\"Computer score:\",computerwin,sep=\"\")\n",
        "    elif computerwin>youwin:\n",
        "        print(\"You lose the Game:\")\n",
        "        print(\"Score is :\",\"your score:\",youwin,\"computer score:\",computerwin,sep=\"\")\n",
        "    else:\n",
        "        print(\"Match is Drawn\")\n",
        "        print(\"Score is :\",\"your score:\",youwin,\"computer score:\",computerwin,sep=\"\")\n",
        "    break\n",
        "\n",
        "3"
      ]
    }
  ]
}